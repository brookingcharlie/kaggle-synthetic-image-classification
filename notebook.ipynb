{
 "cells": [
  {
   "cell_type": "code",
   "execution_count": 4,
   "metadata": {},
   "outputs": [],
   "source": [
    "import pandas as pd"
   ]
  },
  {
   "cell_type": "markdown",
   "metadata": {},
   "source": [
    "# Download and extract data"
   ]
  },
  {
   "cell_type": "code",
   "execution_count": 6,
   "metadata": {},
   "outputs": [
    {
     "name": "stdout",
     "output_type": "stream",
     "text": [
      "sample_submission.csv: Skipping, found more recently modified local copy (use --force to force download)\n",
      "synimg.zip: Skipping, found more recently modified local copy (use --force to force download)\n"
     ]
    }
   ],
   "source": [
    "!kaggle competitions download -c synthetic-image-classification"
   ]
  },
  {
   "cell_type": "code",
   "execution_count": 37,
   "metadata": {},
   "outputs": [],
   "source": [
    "!unzip -q synimg.zip"
   ]
  },
  {
   "cell_type": "markdown",
   "metadata": {},
   "source": [
    "# What have we got?"
   ]
  },
  {
   "cell_type": "code",
   "execution_count": 7,
   "metadata": {},
   "outputs": [
    {
     "name": "stdout",
     "output_type": "stream",
     "text": [
      "readme.txt styles.txt \u001b[34mtest\u001b[m\u001b[m       \u001b[34mtrain\u001b[m\u001b[m\r\n"
     ]
    }
   ],
   "source": [
    "!ls synimg"
   ]
  },
  {
   "cell_type": "code",
   "execution_count": 8,
   "metadata": {},
   "outputs": [
    {
     "name": "stdout",
     "output_type": "stream",
     "text": [
      "Synthetic Image Data.\r\n",
      "For https://www.kaggle.com/c/synthetic-image-classification\r\n",
      "Generated 2019-07-14T12:55:20.588107 by Tim Smith\r\n"
     ]
    }
   ],
   "source": [
    "!cat synimg/readme.txt"
   ]
  },
  {
   "cell_type": "code",
   "execution_count": 9,
   "metadata": {},
   "outputs": [
    {
     "name": "stdout",
     "output_type": "stream",
     "text": [
      "Luanda\r\n",
      "HongKong\r\n",
      "Zurich\r\n",
      "Singapore\r\n",
      "Geneva\r\n",
      "Beijing\r\n",
      "Seoul\r\n",
      "Sydney\r\n",
      "Melbourne\r\n",
      "Brisbane"
     ]
    }
   ],
   "source": [
    "!cat synimg/styles.txt"
   ]
  },
  {
   "cell_type": "markdown",
   "metadata": {},
   "source": [
    "# Check out training data"
   ]
  },
  {
   "cell_type": "code",
   "execution_count": 10,
   "metadata": {},
   "outputs": [
    {
     "name": "stdout",
     "output_type": "stream",
     "text": [
      "\u001b[34mBeijing\u001b[m\u001b[m   \u001b[34mGeneva\u001b[m\u001b[m    \u001b[34mLuanda\u001b[m\u001b[m    \u001b[34mSeoul\u001b[m\u001b[m     \u001b[34mSydney\u001b[m\u001b[m    data.csv\r\n",
      "\u001b[34mBrisbane\u001b[m\u001b[m  \u001b[34mHongKong\u001b[m\u001b[m  \u001b[34mMelbourne\u001b[m\u001b[m \u001b[34mSingapore\u001b[m\u001b[m \u001b[34mZurich\u001b[m\u001b[m\r\n"
     ]
    }
   ],
   "source": [
    "!ls synimg/train"
   ]
  },
  {
   "cell_type": "code",
   "execution_count": 11,
   "metadata": {},
   "outputs": [],
   "source": [
    "train = pd.read_csv('synimg/train/data.csv')"
   ]
  },
  {
   "cell_type": "code",
   "execution_count": 12,
   "metadata": {},
   "outputs": [
    {
     "data": {
      "text/html": [
       "<div>\n",
       "<style scoped>\n",
       "    .dataframe tbody tr th:only-of-type {\n",
       "        vertical-align: middle;\n",
       "    }\n",
       "\n",
       "    .dataframe tbody tr th {\n",
       "        vertical-align: top;\n",
       "    }\n",
       "\n",
       "    .dataframe thead th {\n",
       "        text-align: right;\n",
       "    }\n",
       "</style>\n",
       "<table border=\"1\" class=\"dataframe\">\n",
       "  <thead>\n",
       "    <tr style=\"text-align: right;\">\n",
       "      <th></th>\n",
       "      <th>id</th>\n",
       "      <th>style_name</th>\n",
       "      <th>file</th>\n",
       "      <th>filepath</th>\n",
       "    </tr>\n",
       "  </thead>\n",
       "  <tbody>\n",
       "    <tr>\n",
       "      <th>0</th>\n",
       "      <td>1000000</td>\n",
       "      <td>Luanda</td>\n",
       "      <td>train-Luanda-1000000.jpg</td>\n",
       "      <td>synimg/train/Luanda/train-Luanda-1000000.jpg</td>\n",
       "    </tr>\n",
       "    <tr>\n",
       "      <th>1</th>\n",
       "      <td>1000001</td>\n",
       "      <td>Luanda</td>\n",
       "      <td>train-Luanda-1000001.jpg</td>\n",
       "      <td>synimg/train/Luanda/train-Luanda-1000001.jpg</td>\n",
       "    </tr>\n",
       "    <tr>\n",
       "      <th>2</th>\n",
       "      <td>1000002</td>\n",
       "      <td>Luanda</td>\n",
       "      <td>train-Luanda-1000002.jpg</td>\n",
       "      <td>synimg/train/Luanda/train-Luanda-1000002.jpg</td>\n",
       "    </tr>\n",
       "    <tr>\n",
       "      <th>3</th>\n",
       "      <td>1000003</td>\n",
       "      <td>Luanda</td>\n",
       "      <td>train-Luanda-1000003.jpg</td>\n",
       "      <td>synimg/train/Luanda/train-Luanda-1000003.jpg</td>\n",
       "    </tr>\n",
       "    <tr>\n",
       "      <th>4</th>\n",
       "      <td>1000004</td>\n",
       "      <td>Luanda</td>\n",
       "      <td>train-Luanda-1000004.jpg</td>\n",
       "      <td>synimg/train/Luanda/train-Luanda-1000004.jpg</td>\n",
       "    </tr>\n",
       "  </tbody>\n",
       "</table>\n",
       "</div>"
      ],
      "text/plain": [
       "        id style_name                      file  \\\n",
       "0  1000000     Luanda  train-Luanda-1000000.jpg   \n",
       "1  1000001     Luanda  train-Luanda-1000001.jpg   \n",
       "2  1000002     Luanda  train-Luanda-1000002.jpg   \n",
       "3  1000003     Luanda  train-Luanda-1000003.jpg   \n",
       "4  1000004     Luanda  train-Luanda-1000004.jpg   \n",
       "\n",
       "                                       filepath  \n",
       "0  synimg/train/Luanda/train-Luanda-1000000.jpg  \n",
       "1  synimg/train/Luanda/train-Luanda-1000001.jpg  \n",
       "2  synimg/train/Luanda/train-Luanda-1000002.jpg  \n",
       "3  synimg/train/Luanda/train-Luanda-1000003.jpg  \n",
       "4  synimg/train/Luanda/train-Luanda-1000004.jpg  "
      ]
     },
     "execution_count": 12,
     "metadata": {},
     "output_type": "execute_result"
    }
   ],
   "source": [
    "train.head()"
   ]
  },
  {
   "cell_type": "code",
   "execution_count": 14,
   "metadata": {},
   "outputs": [
    {
     "data": {
      "text/plain": [
       "400000"
      ]
     },
     "execution_count": 14,
     "metadata": {},
     "output_type": "execute_result"
    }
   ],
   "source": [
    "train.size"
   ]
  },
  {
   "cell_type": "code",
   "execution_count": 15,
   "metadata": {},
   "outputs": [
    {
     "data": {
      "text/html": [
       "<div>\n",
       "<style scoped>\n",
       "    .dataframe tbody tr th:only-of-type {\n",
       "        vertical-align: middle;\n",
       "    }\n",
       "\n",
       "    .dataframe tbody tr th {\n",
       "        vertical-align: top;\n",
       "    }\n",
       "\n",
       "    .dataframe thead th {\n",
       "        text-align: right;\n",
       "    }\n",
       "</style>\n",
       "<table border=\"1\" class=\"dataframe\">\n",
       "  <thead>\n",
       "    <tr style=\"text-align: right;\">\n",
       "      <th></th>\n",
       "      <th>id</th>\n",
       "      <th>file</th>\n",
       "      <th>filepath</th>\n",
       "    </tr>\n",
       "    <tr>\n",
       "      <th>style_name</th>\n",
       "      <th></th>\n",
       "      <th></th>\n",
       "      <th></th>\n",
       "    </tr>\n",
       "  </thead>\n",
       "  <tbody>\n",
       "    <tr>\n",
       "      <th>Beijing</th>\n",
       "      <td>10000</td>\n",
       "      <td>10000</td>\n",
       "      <td>10000</td>\n",
       "    </tr>\n",
       "    <tr>\n",
       "      <th>Brisbane</th>\n",
       "      <td>10000</td>\n",
       "      <td>10000</td>\n",
       "      <td>10000</td>\n",
       "    </tr>\n",
       "    <tr>\n",
       "      <th>Geneva</th>\n",
       "      <td>10000</td>\n",
       "      <td>10000</td>\n",
       "      <td>10000</td>\n",
       "    </tr>\n",
       "    <tr>\n",
       "      <th>HongKong</th>\n",
       "      <td>10000</td>\n",
       "      <td>10000</td>\n",
       "      <td>10000</td>\n",
       "    </tr>\n",
       "    <tr>\n",
       "      <th>Luanda</th>\n",
       "      <td>10000</td>\n",
       "      <td>10000</td>\n",
       "      <td>10000</td>\n",
       "    </tr>\n",
       "    <tr>\n",
       "      <th>Melbourne</th>\n",
       "      <td>10000</td>\n",
       "      <td>10000</td>\n",
       "      <td>10000</td>\n",
       "    </tr>\n",
       "    <tr>\n",
       "      <th>Seoul</th>\n",
       "      <td>10000</td>\n",
       "      <td>10000</td>\n",
       "      <td>10000</td>\n",
       "    </tr>\n",
       "    <tr>\n",
       "      <th>Singapore</th>\n",
       "      <td>10000</td>\n",
       "      <td>10000</td>\n",
       "      <td>10000</td>\n",
       "    </tr>\n",
       "    <tr>\n",
       "      <th>Sydney</th>\n",
       "      <td>10000</td>\n",
       "      <td>10000</td>\n",
       "      <td>10000</td>\n",
       "    </tr>\n",
       "    <tr>\n",
       "      <th>Zurich</th>\n",
       "      <td>10000</td>\n",
       "      <td>10000</td>\n",
       "      <td>10000</td>\n",
       "    </tr>\n",
       "  </tbody>\n",
       "</table>\n",
       "</div>"
      ],
      "text/plain": [
       "               id   file  filepath\n",
       "style_name                        \n",
       "Beijing     10000  10000     10000\n",
       "Brisbane    10000  10000     10000\n",
       "Geneva      10000  10000     10000\n",
       "HongKong    10000  10000     10000\n",
       "Luanda      10000  10000     10000\n",
       "Melbourne   10000  10000     10000\n",
       "Seoul       10000  10000     10000\n",
       "Singapore   10000  10000     10000\n",
       "Sydney      10000  10000     10000\n",
       "Zurich      10000  10000     10000"
      ]
     },
     "execution_count": 15,
     "metadata": {},
     "output_type": "execute_result"
    }
   ],
   "source": [
    "train.groupby('style_name').count()"
   ]
  },
  {
   "cell_type": "code",
   "execution_count": 5,
   "metadata": {},
   "outputs": [
    {
     "name": "stdout",
     "output_type": "stream",
     "text": [
      "train-Luanda-1000000.jpg\n",
      "train-Luanda-1000001.jpg\n",
      "train-Brisbane-1090000.jpg\n",
      "train-Brisbane-1090001.jpg\n"
     ]
    }
   ],
   "source": [
    "!ls synimg/train/Luanda | head -n2\n",
    "!ls synimg/train/Brisbane | head -n2"
   ]
  },
  {
   "cell_type": "markdown",
   "metadata": {},
   "source": [
    "Render some images using Markdown:\n",
    "\n",
    "* train-Luanda-1000000.jpg: ![train-Luanda-1000000.jpg](synimg/train/Luanda/train-Luanda-1000000.jpg)\n",
    "* train-Luanda-1000001.jpg: ![train-Luanda-1000001.jpg](synimg/train/Luanda/train-Luanda-1000001.jpg)\n",
    "* train-Brisbane-1090000.jpg: ![train-Brisbane-1090000](synimg/train/Brisbane/train-Brisbane-1090000.jpg)\n",
    "* train-Brisbane-1090001.jpg: ![train-Brisbane-1090001.jpg](synimg/train/Brisbane/train-Brisbane-1090001.jpg)"
   ]
  },
  {
   "cell_type": "markdown",
   "metadata": {},
   "source": [
    "# Check out test data"
   ]
  },
  {
   "cell_type": "code",
   "execution_count": 58,
   "metadata": {},
   "outputs": [
    {
     "name": "stdout",
     "output_type": "stream",
     "text": [
      "\u001b[34mA\u001b[m\u001b[m                \u001b[34mD\u001b[m\u001b[m                \u001b[34mG\u001b[m\u001b[m                \u001b[34mJ\u001b[m\u001b[m\r\n",
      "\u001b[34mB\u001b[m\u001b[m                \u001b[34mE\u001b[m\u001b[m                \u001b[34mH\u001b[m\u001b[m                data_nostyle.csv\r\n",
      "\u001b[34mC\u001b[m\u001b[m                \u001b[34mF\u001b[m\u001b[m                \u001b[34mI\u001b[m\u001b[m\r\n"
     ]
    }
   ],
   "source": [
    "!ls synimg/test"
   ]
  },
  {
   "cell_type": "code",
   "execution_count": 59,
   "metadata": {},
   "outputs": [],
   "source": [
    "test = pd.read_csv('synimg/test/data_nostyle.csv')"
   ]
  },
  {
   "cell_type": "code",
   "execution_count": 60,
   "metadata": {},
   "outputs": [
    {
     "data": {
      "text/html": [
       "<div>\n",
       "<style scoped>\n",
       "    .dataframe tbody tr th:only-of-type {\n",
       "        vertical-align: middle;\n",
       "    }\n",
       "\n",
       "    .dataframe tbody tr th {\n",
       "        vertical-align: top;\n",
       "    }\n",
       "\n",
       "    .dataframe thead th {\n",
       "        text-align: right;\n",
       "    }\n",
       "</style>\n",
       "<table border=\"1\" class=\"dataframe\">\n",
       "  <thead>\n",
       "    <tr style=\"text-align: right;\">\n",
       "      <th></th>\n",
       "      <th>id</th>\n",
       "      <th>file</th>\n",
       "      <th>filepath</th>\n",
       "    </tr>\n",
       "  </thead>\n",
       "  <tbody>\n",
       "    <tr>\n",
       "      <th>0</th>\n",
       "      <td>9000000</td>\n",
       "      <td>test-A-9000000.jpg</td>\n",
       "      <td>synimg/test/A/test-A-9000000.jpg</td>\n",
       "    </tr>\n",
       "    <tr>\n",
       "      <th>1</th>\n",
       "      <td>9000001</td>\n",
       "      <td>test-B-9000001.jpg</td>\n",
       "      <td>synimg/test/B/test-B-9000001.jpg</td>\n",
       "    </tr>\n",
       "    <tr>\n",
       "      <th>2</th>\n",
       "      <td>9000002</td>\n",
       "      <td>test-C-9000002.jpg</td>\n",
       "      <td>synimg/test/C/test-C-9000002.jpg</td>\n",
       "    </tr>\n",
       "    <tr>\n",
       "      <th>3</th>\n",
       "      <td>9000003</td>\n",
       "      <td>test-D-9000003.jpg</td>\n",
       "      <td>synimg/test/D/test-D-9000003.jpg</td>\n",
       "    </tr>\n",
       "    <tr>\n",
       "      <th>4</th>\n",
       "      <td>9000004</td>\n",
       "      <td>test-E-9000004.jpg</td>\n",
       "      <td>synimg/test/E/test-E-9000004.jpg</td>\n",
       "    </tr>\n",
       "  </tbody>\n",
       "</table>\n",
       "</div>"
      ],
      "text/plain": [
       "        id                file                          filepath\n",
       "0  9000000  test-A-9000000.jpg  synimg/test/A/test-A-9000000.jpg\n",
       "1  9000001  test-B-9000001.jpg  synimg/test/B/test-B-9000001.jpg\n",
       "2  9000002  test-C-9000002.jpg  synimg/test/C/test-C-9000002.jpg\n",
       "3  9000003  test-D-9000003.jpg  synimg/test/D/test-D-9000003.jpg\n",
       "4  9000004  test-E-9000004.jpg  synimg/test/E/test-E-9000004.jpg"
      ]
     },
     "execution_count": 60,
     "metadata": {},
     "output_type": "execute_result"
    }
   ],
   "source": [
    "test.head()"
   ]
  },
  {
   "cell_type": "code",
   "execution_count": 62,
   "metadata": {},
   "outputs": [
    {
     "data": {
      "text/plain": [
       "60000"
      ]
     },
     "execution_count": 62,
     "metadata": {},
     "output_type": "execute_result"
    }
   ],
   "source": [
    "test.size"
   ]
  },
  {
   "cell_type": "code",
   "execution_count": 70,
   "metadata": {},
   "outputs": [
    {
     "name": "stdout",
     "output_type": "stream",
     "text": [
      "test-A-9000000.jpg\n",
      "test-A-9000010.jpg\n",
      "test-B-9000001.jpg\n",
      "test-B-9000011.jpg\n"
     ]
    }
   ],
   "source": [
    "!ls synimg/test/A | head -n2\n",
    "!ls synimg/test/B | head -n2"
   ]
  },
  {
   "cell_type": "markdown",
   "metadata": {},
   "source": [
    "Render some images using Markdown:\n",
    "\n",
    "* test-A-9000000.jpg: ![test-A-9000000.jpg](synimg/test/A/test-A-9000000.jpg)\n",
    "* test-A-9000010.jpg: ![test-A-9000010.jpg](synimg/test/A/test-A-9000010.jpg)\n",
    "* test-B-9000001.jpg: ![test-B-9000001.jpg](synimg/test/B/test-B-9000001.jpg)\n",
    "* test-B-9000011.jpg: ![test-B-9000011.jpg](synimg/test/B/test-B-9000011.jpg)"
   ]
  }
 ],
 "metadata": {
  "kernelspec": {
   "display_name": "Python 3",
   "language": "python",
   "name": "python3"
  },
  "language_info": {
   "codemirror_mode": {
    "name": "ipython",
    "version": 3
   },
   "file_extension": ".py",
   "mimetype": "text/x-python",
   "name": "python",
   "nbconvert_exporter": "python",
   "pygments_lexer": "ipython3",
   "version": "3.6.8"
  }
 },
 "nbformat": 4,
 "nbformat_minor": 2
}
