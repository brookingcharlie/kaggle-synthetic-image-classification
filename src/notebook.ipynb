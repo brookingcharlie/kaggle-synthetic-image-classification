{
 "cells": [
  {
   "cell_type": "markdown",
   "metadata": {},
   "source": [
    "# Download and extract data"
   ]
  },
  {
   "cell_type": "code",
   "execution_count": 35,
   "metadata": {},
   "outputs": [],
   "source": [
    "INPUT='../input' # INPUT='../input/synimg' on Kaggle"
   ]
  },
  {
   "cell_type": "code",
   "execution_count": 36,
   "metadata": {},
   "outputs": [
    {
     "name": "stdout",
     "output_type": "stream",
     "text": [
      "sample_submission.csv: Skipping, found more recently modified local copy (use --force to force download)\n",
      "synimg.zip: Skipping, found more recently modified local copy (use --force to force download)\n"
     ]
    }
   ],
   "source": [
    "!kaggle competitions download -p $INPUT -c synthetic-image-classification"
   ]
  },
  {
   "cell_type": "code",
   "execution_count": 37,
   "metadata": {},
   "outputs": [
    {
     "name": "stdout",
     "output_type": "stream",
     "text": [
      "sample_submission.csv \u001b[34msynimg\u001b[m\u001b[m                synimg.zip\r\n"
     ]
    }
   ],
   "source": [
    "!ls $INPUT"
   ]
  },
  {
   "cell_type": "code",
   "execution_count": 38,
   "metadata": {},
   "outputs": [
    {
     "name": "stdout",
     "output_type": "stream",
     "text": [
      "Archive:  ../input/synimg.zip\r\n"
     ]
    }
   ],
   "source": [
    "!unzip -u -d $INPUT $INPUT/synimg.zip"
   ]
  },
  {
   "cell_type": "code",
   "execution_count": 39,
   "metadata": {},
   "outputs": [
    {
     "name": "stdout",
     "output_type": "stream",
     "text": [
      "readme.txt styles.txt \u001b[34mtest\u001b[m\u001b[m       \u001b[34mtrain\u001b[m\u001b[m\r\n"
     ]
    }
   ],
   "source": [
    "!ls $INPUT/synimg"
   ]
  },
  {
   "cell_type": "markdown",
   "metadata": {},
   "source": [
    "# Check out styles"
   ]
  },
  {
   "cell_type": "code",
   "execution_count": 40,
   "metadata": {},
   "outputs": [],
   "source": [
    "import pandas as pd\n",
    "\n",
    "styles = pd.read_csv(f'{INPUT}/synimg/styles.txt', names=['style_name'])"
   ]
  },
  {
   "cell_type": "code",
   "execution_count": 41,
   "metadata": {},
   "outputs": [
    {
     "data": {
      "text/html": [
       "<div>\n",
       "<style scoped>\n",
       "    .dataframe tbody tr th:only-of-type {\n",
       "        vertical-align: middle;\n",
       "    }\n",
       "\n",
       "    .dataframe tbody tr th {\n",
       "        vertical-align: top;\n",
       "    }\n",
       "\n",
       "    .dataframe thead th {\n",
       "        text-align: right;\n",
       "    }\n",
       "</style>\n",
       "<table border=\"1\" class=\"dataframe\">\n",
       "  <thead>\n",
       "    <tr style=\"text-align: right;\">\n",
       "      <th></th>\n",
       "      <th>style_name</th>\n",
       "    </tr>\n",
       "  </thead>\n",
       "  <tbody>\n",
       "    <tr>\n",
       "      <th>0</th>\n",
       "      <td>Luanda</td>\n",
       "    </tr>\n",
       "    <tr>\n",
       "      <th>1</th>\n",
       "      <td>HongKong</td>\n",
       "    </tr>\n",
       "    <tr>\n",
       "      <th>2</th>\n",
       "      <td>Zurich</td>\n",
       "    </tr>\n",
       "    <tr>\n",
       "      <th>3</th>\n",
       "      <td>Singapore</td>\n",
       "    </tr>\n",
       "    <tr>\n",
       "      <th>4</th>\n",
       "      <td>Geneva</td>\n",
       "    </tr>\n",
       "    <tr>\n",
       "      <th>5</th>\n",
       "      <td>Beijing</td>\n",
       "    </tr>\n",
       "    <tr>\n",
       "      <th>6</th>\n",
       "      <td>Seoul</td>\n",
       "    </tr>\n",
       "    <tr>\n",
       "      <th>7</th>\n",
       "      <td>Sydney</td>\n",
       "    </tr>\n",
       "    <tr>\n",
       "      <th>8</th>\n",
       "      <td>Melbourne</td>\n",
       "    </tr>\n",
       "    <tr>\n",
       "      <th>9</th>\n",
       "      <td>Brisbane</td>\n",
       "    </tr>\n",
       "  </tbody>\n",
       "</table>\n",
       "</div>"
      ],
      "text/plain": [
       "  style_name\n",
       "0     Luanda\n",
       "1   HongKong\n",
       "2     Zurich\n",
       "3  Singapore\n",
       "4     Geneva\n",
       "5    Beijing\n",
       "6      Seoul\n",
       "7     Sydney\n",
       "8  Melbourne\n",
       "9   Brisbane"
      ]
     },
     "execution_count": 41,
     "metadata": {},
     "output_type": "execute_result"
    }
   ],
   "source": [
    "styles"
   ]
  },
  {
   "cell_type": "markdown",
   "metadata": {},
   "source": [
    "# Check out training data"
   ]
  },
  {
   "cell_type": "code",
   "execution_count": 42,
   "metadata": {},
   "outputs": [
    {
     "name": "stdout",
     "output_type": "stream",
     "text": [
      "\u001b[34mBeijing\u001b[m\u001b[m   \u001b[34mGeneva\u001b[m\u001b[m    \u001b[34mLuanda\u001b[m\u001b[m    \u001b[34mSeoul\u001b[m\u001b[m     \u001b[34mSydney\u001b[m\u001b[m    data.csv\r\n",
      "\u001b[34mBrisbane\u001b[m\u001b[m  \u001b[34mHongKong\u001b[m\u001b[m  \u001b[34mMelbourne\u001b[m\u001b[m \u001b[34mSingapore\u001b[m\u001b[m \u001b[34mZurich\u001b[m\u001b[m\r\n"
     ]
    }
   ],
   "source": [
    "!ls $INPUT/synimg/train"
   ]
  },
  {
   "cell_type": "code",
   "execution_count": 43,
   "metadata": {},
   "outputs": [],
   "source": [
    "import pandas as pd\n",
    "\n",
    "train = pd.read_csv(f'{INPUT}/synimg/train/data.csv')"
   ]
  },
  {
   "cell_type": "code",
   "execution_count": 44,
   "metadata": {},
   "outputs": [
    {
     "data": {
      "text/html": [
       "<div>\n",
       "<style scoped>\n",
       "    .dataframe tbody tr th:only-of-type {\n",
       "        vertical-align: middle;\n",
       "    }\n",
       "\n",
       "    .dataframe tbody tr th {\n",
       "        vertical-align: top;\n",
       "    }\n",
       "\n",
       "    .dataframe thead th {\n",
       "        text-align: right;\n",
       "    }\n",
       "</style>\n",
       "<table border=\"1\" class=\"dataframe\">\n",
       "  <thead>\n",
       "    <tr style=\"text-align: right;\">\n",
       "      <th></th>\n",
       "      <th>id</th>\n",
       "      <th>style_name</th>\n",
       "      <th>file</th>\n",
       "      <th>filepath</th>\n",
       "    </tr>\n",
       "  </thead>\n",
       "  <tbody>\n",
       "    <tr>\n",
       "      <th>0</th>\n",
       "      <td>1000000</td>\n",
       "      <td>Luanda</td>\n",
       "      <td>train-Luanda-1000000.jpg</td>\n",
       "      <td>synimg/train/Luanda/train-Luanda-1000000.jpg</td>\n",
       "    </tr>\n",
       "    <tr>\n",
       "      <th>1</th>\n",
       "      <td>1000001</td>\n",
       "      <td>Luanda</td>\n",
       "      <td>train-Luanda-1000001.jpg</td>\n",
       "      <td>synimg/train/Luanda/train-Luanda-1000001.jpg</td>\n",
       "    </tr>\n",
       "    <tr>\n",
       "      <th>2</th>\n",
       "      <td>1000002</td>\n",
       "      <td>Luanda</td>\n",
       "      <td>train-Luanda-1000002.jpg</td>\n",
       "      <td>synimg/train/Luanda/train-Luanda-1000002.jpg</td>\n",
       "    </tr>\n",
       "    <tr>\n",
       "      <th>3</th>\n",
       "      <td>1000003</td>\n",
       "      <td>Luanda</td>\n",
       "      <td>train-Luanda-1000003.jpg</td>\n",
       "      <td>synimg/train/Luanda/train-Luanda-1000003.jpg</td>\n",
       "    </tr>\n",
       "    <tr>\n",
       "      <th>4</th>\n",
       "      <td>1000004</td>\n",
       "      <td>Luanda</td>\n",
       "      <td>train-Luanda-1000004.jpg</td>\n",
       "      <td>synimg/train/Luanda/train-Luanda-1000004.jpg</td>\n",
       "    </tr>\n",
       "  </tbody>\n",
       "</table>\n",
       "</div>"
      ],
      "text/plain": [
       "        id style_name                      file  \\\n",
       "0  1000000     Luanda  train-Luanda-1000000.jpg   \n",
       "1  1000001     Luanda  train-Luanda-1000001.jpg   \n",
       "2  1000002     Luanda  train-Luanda-1000002.jpg   \n",
       "3  1000003     Luanda  train-Luanda-1000003.jpg   \n",
       "4  1000004     Luanda  train-Luanda-1000004.jpg   \n",
       "\n",
       "                                       filepath  \n",
       "0  synimg/train/Luanda/train-Luanda-1000000.jpg  \n",
       "1  synimg/train/Luanda/train-Luanda-1000001.jpg  \n",
       "2  synimg/train/Luanda/train-Luanda-1000002.jpg  \n",
       "3  synimg/train/Luanda/train-Luanda-1000003.jpg  \n",
       "4  synimg/train/Luanda/train-Luanda-1000004.jpg  "
      ]
     },
     "execution_count": 44,
     "metadata": {},
     "output_type": "execute_result"
    }
   ],
   "source": [
    "train.head()"
   ]
  },
  {
   "cell_type": "code",
   "execution_count": 45,
   "metadata": {},
   "outputs": [
    {
     "data": {
      "text/plain": [
       "(100000, 4)"
      ]
     },
     "execution_count": 45,
     "metadata": {},
     "output_type": "execute_result"
    }
   ],
   "source": [
    "train.shape"
   ]
  },
  {
   "cell_type": "code",
   "execution_count": 46,
   "metadata": {},
   "outputs": [
    {
     "data": {
      "text/html": [
       "<div>\n",
       "<style scoped>\n",
       "    .dataframe tbody tr th:only-of-type {\n",
       "        vertical-align: middle;\n",
       "    }\n",
       "\n",
       "    .dataframe tbody tr th {\n",
       "        vertical-align: top;\n",
       "    }\n",
       "\n",
       "    .dataframe thead th {\n",
       "        text-align: right;\n",
       "    }\n",
       "</style>\n",
       "<table border=\"1\" class=\"dataframe\">\n",
       "  <thead>\n",
       "    <tr style=\"text-align: right;\">\n",
       "      <th></th>\n",
       "      <th>id</th>\n",
       "      <th>file</th>\n",
       "      <th>filepath</th>\n",
       "    </tr>\n",
       "    <tr>\n",
       "      <th>style_name</th>\n",
       "      <th></th>\n",
       "      <th></th>\n",
       "      <th></th>\n",
       "    </tr>\n",
       "  </thead>\n",
       "  <tbody>\n",
       "    <tr>\n",
       "      <th>Beijing</th>\n",
       "      <td>10000</td>\n",
       "      <td>10000</td>\n",
       "      <td>10000</td>\n",
       "    </tr>\n",
       "    <tr>\n",
       "      <th>Brisbane</th>\n",
       "      <td>10000</td>\n",
       "      <td>10000</td>\n",
       "      <td>10000</td>\n",
       "    </tr>\n",
       "    <tr>\n",
       "      <th>Geneva</th>\n",
       "      <td>10000</td>\n",
       "      <td>10000</td>\n",
       "      <td>10000</td>\n",
       "    </tr>\n",
       "    <tr>\n",
       "      <th>HongKong</th>\n",
       "      <td>10000</td>\n",
       "      <td>10000</td>\n",
       "      <td>10000</td>\n",
       "    </tr>\n",
       "    <tr>\n",
       "      <th>Luanda</th>\n",
       "      <td>10000</td>\n",
       "      <td>10000</td>\n",
       "      <td>10000</td>\n",
       "    </tr>\n",
       "    <tr>\n",
       "      <th>Melbourne</th>\n",
       "      <td>10000</td>\n",
       "      <td>10000</td>\n",
       "      <td>10000</td>\n",
       "    </tr>\n",
       "    <tr>\n",
       "      <th>Seoul</th>\n",
       "      <td>10000</td>\n",
       "      <td>10000</td>\n",
       "      <td>10000</td>\n",
       "    </tr>\n",
       "    <tr>\n",
       "      <th>Singapore</th>\n",
       "      <td>10000</td>\n",
       "      <td>10000</td>\n",
       "      <td>10000</td>\n",
       "    </tr>\n",
       "    <tr>\n",
       "      <th>Sydney</th>\n",
       "      <td>10000</td>\n",
       "      <td>10000</td>\n",
       "      <td>10000</td>\n",
       "    </tr>\n",
       "    <tr>\n",
       "      <th>Zurich</th>\n",
       "      <td>10000</td>\n",
       "      <td>10000</td>\n",
       "      <td>10000</td>\n",
       "    </tr>\n",
       "  </tbody>\n",
       "</table>\n",
       "</div>"
      ],
      "text/plain": [
       "               id   file  filepath\n",
       "style_name                        \n",
       "Beijing     10000  10000     10000\n",
       "Brisbane    10000  10000     10000\n",
       "Geneva      10000  10000     10000\n",
       "HongKong    10000  10000     10000\n",
       "Luanda      10000  10000     10000\n",
       "Melbourne   10000  10000     10000\n",
       "Seoul       10000  10000     10000\n",
       "Singapore   10000  10000     10000\n",
       "Sydney      10000  10000     10000\n",
       "Zurich      10000  10000     10000"
      ]
     },
     "execution_count": 46,
     "metadata": {},
     "output_type": "execute_result"
    }
   ],
   "source": [
    "train.groupby('style_name').count()"
   ]
  },
  {
   "cell_type": "code",
   "execution_count": 47,
   "metadata": {},
   "outputs": [
    {
     "data": {
      "image/jpeg": "[encoded data removed]",
      "text/plain": [
       "<IPython.core.display.Image object>"
      ]
     },
     "metadata": {},
     "output_type": "display_data"
    },
    {
     "data": {
      "image/jpeg": "[encoded data removed]",
      "text/plain": [
       "<IPython.core.display.Image object>"
      ]
     },
     "metadata": {},
     "output_type": "display_data"
    },
    {
     "data": {
      "image/jpeg": "[encoded data removed]",
      "text/plain": [
       "<IPython.core.display.Image object>"
      ]
     },
     "metadata": {},
     "output_type": "display_data"
    },
    {
     "data": {
      "image/jpeg": "[encoded data removed]",
      "text/plain": [
       "<IPython.core.display.Image object>"
      ]
     },
     "metadata": {},
     "output_type": "display_data"
    }
   ],
   "source": [
    "from IPython.display import Image\n",
    "\n",
    "display(Image(f'{INPUT}/synimg/train/Luanda/train-Luanda-1000000.jpg'))\n",
    "display(Image(f'{INPUT}/synimg/train/Luanda/train-Luanda-1000001.jpg'))\n",
    "display(Image(f'{INPUT}/synimg/train/Brisbane/train-Brisbane-1090000.jpg'))\n",
    "display(Image(f'{INPUT}/synimg/train/Brisbane/train-Brisbane-1090001.jpg'))"
   ]
  },
  {
   "cell_type": "markdown",
   "metadata": {},
   "source": [
    "# Check out test data"
   ]
  },
  {
   "cell_type": "code",
   "execution_count": 48,
   "metadata": {},
   "outputs": [
    {
     "name": "stdout",
     "output_type": "stream",
     "text": [
      "\u001b[34mA\u001b[m\u001b[m                \u001b[34mD\u001b[m\u001b[m                \u001b[34mG\u001b[m\u001b[m                \u001b[34mJ\u001b[m\u001b[m\r\n",
      "\u001b[34mB\u001b[m\u001b[m                \u001b[34mE\u001b[m\u001b[m                \u001b[34mH\u001b[m\u001b[m                data_nostyle.csv\r\n",
      "\u001b[34mC\u001b[m\u001b[m                \u001b[34mF\u001b[m\u001b[m                \u001b[34mI\u001b[m\u001b[m\r\n"
     ]
    }
   ],
   "source": [
    "!ls $INPUT/synimg/test"
   ]
  },
  {
   "cell_type": "code",
   "execution_count": 49,
   "metadata": {},
   "outputs": [],
   "source": [
    "test = pd.read_csv(f'{INPUT}/synimg/test/data_nostyle.csv')"
   ]
  },
  {
   "cell_type": "code",
   "execution_count": 50,
   "metadata": {},
   "outputs": [
    {
     "data": {
      "text/html": [
       "<div>\n",
       "<style scoped>\n",
       "    .dataframe tbody tr th:only-of-type {\n",
       "        vertical-align: middle;\n",
       "    }\n",
       "\n",
       "    .dataframe tbody tr th {\n",
       "        vertical-align: top;\n",
       "    }\n",
       "\n",
       "    .dataframe thead th {\n",
       "        text-align: right;\n",
       "    }\n",
       "</style>\n",
       "<table border=\"1\" class=\"dataframe\">\n",
       "  <thead>\n",
       "    <tr style=\"text-align: right;\">\n",
       "      <th></th>\n",
       "      <th>id</th>\n",
       "      <th>file</th>\n",
       "      <th>filepath</th>\n",
       "    </tr>\n",
       "  </thead>\n",
       "  <tbody>\n",
       "    <tr>\n",
       "      <th>0</th>\n",
       "      <td>9000000</td>\n",
       "      <td>test-A-9000000.jpg</td>\n",
       "      <td>synimg/test/A/test-A-9000000.jpg</td>\n",
       "    </tr>\n",
       "    <tr>\n",
       "      <th>1</th>\n",
       "      <td>9000001</td>\n",
       "      <td>test-B-9000001.jpg</td>\n",
       "      <td>synimg/test/B/test-B-9000001.jpg</td>\n",
       "    </tr>\n",
       "    <tr>\n",
       "      <th>2</th>\n",
       "      <td>9000002</td>\n",
       "      <td>test-C-9000002.jpg</td>\n",
       "      <td>synimg/test/C/test-C-9000002.jpg</td>\n",
       "    </tr>\n",
       "    <tr>\n",
       "      <th>3</th>\n",
       "      <td>9000003</td>\n",
       "      <td>test-D-9000003.jpg</td>\n",
       "      <td>synimg/test/D/test-D-9000003.jpg</td>\n",
       "    </tr>\n",
       "    <tr>\n",
       "      <th>4</th>\n",
       "      <td>9000004</td>\n",
       "      <td>test-E-9000004.jpg</td>\n",
       "      <td>synimg/test/E/test-E-9000004.jpg</td>\n",
       "    </tr>\n",
       "  </tbody>\n",
       "</table>\n",
       "</div>"
      ],
      "text/plain": [
       "        id                file                          filepath\n",
       "0  9000000  test-A-9000000.jpg  synimg/test/A/test-A-9000000.jpg\n",
       "1  9000001  test-B-9000001.jpg  synimg/test/B/test-B-9000001.jpg\n",
       "2  9000002  test-C-9000002.jpg  synimg/test/C/test-C-9000002.jpg\n",
       "3  9000003  test-D-9000003.jpg  synimg/test/D/test-D-9000003.jpg\n",
       "4  9000004  test-E-9000004.jpg  synimg/test/E/test-E-9000004.jpg"
      ]
     },
     "execution_count": 50,
     "metadata": {},
     "output_type": "execute_result"
    }
   ],
   "source": [
    "test.head()"
   ]
  },
  {
   "cell_type": "code",
   "execution_count": 51,
   "metadata": {},
   "outputs": [
    {
     "data": {
      "text/plain": [
       "(20000, 3)"
      ]
     },
     "execution_count": 51,
     "metadata": {},
     "output_type": "execute_result"
    }
   ],
   "source": [
    "test.shape"
   ]
  },
  {
   "cell_type": "code",
   "execution_count": 52,
   "metadata": {},
   "outputs": [
    {
     "name": "stdout",
     "output_type": "stream",
     "text": [
      "test-A-9000000.jpg\n",
      "test-B-9000001.jpg\n"
     ]
    }
   ],
   "source": [
    "!ls $INPUT/synimg/test/A | head -n1\n",
    "!ls $INPUT/synimg/test/B | head -n1"
   ]
  },
  {
   "cell_type": "code",
   "execution_count": 53,
   "metadata": {},
   "outputs": [
    {
     "data": {
      "image/jpeg": "[encoded data removed]",
      "text/plain": [
       "<IPython.core.display.Image object>"
      ]
     },
     "metadata": {},
     "output_type": "display_data"
    },
    {
     "data": {
      "image/jpeg": "[encoded data removed]",
      "text/plain": [
       "<IPython.core.display.Image object>"
      ]
     },
     "metadata": {},
     "output_type": "display_data"
    }
   ],
   "source": [
    "from IPython.display import Image\n",
    "\n",
    "display(Image(f'{INPUT}/synimg/test/A/test-A-9000000.jpg'))\n",
    "display(Image(f'{INPUT}/synimg/test/B/test-B-9000001.jpg'))"
   ]
  },
  {
   "cell_type": "markdown",
   "metadata": {},
   "source": [
    "# Get image size"
   ]
  },
  {
   "cell_type": "code",
   "execution_count": 56,
   "metadata": {},
   "outputs": [
    {
     "data": {
      "text/plain": [
       "(32, 64)"
      ]
     },
     "execution_count": 56,
     "metadata": {},
     "output_type": "execute_result"
    }
   ],
   "source": [
    "import tensorflow as tf\n",
    "\n",
    "image = tf.keras.preprocessing.image.load_img(f'{INPUT}/synimg/test/A/test-A-9000000.jpg')\n",
    "image.height, image.width"
   ]
  },
  {
   "cell_type": "code",
   "execution_count": 57,
   "metadata": {},
   "outputs": [
    {
     "data": {
      "text/plain": [
       "('R', 'G', 'B')"
      ]
     },
     "execution_count": 57,
     "metadata": {},
     "output_type": "execute_result"
    }
   ],
   "source": [
    "image.getbands()"
   ]
  },
  {
   "cell_type": "code",
   "execution_count": 58,
   "metadata": {},
   "outputs": [
    {
     "data": {
      "text/plain": [
       "(32, 64, 3)"
      ]
     },
     "execution_count": 58,
     "metadata": {},
     "output_type": "execute_result"
    }
   ],
   "source": [
    "image_shape = (image.height, image.width, len(image.getbands()))\n",
    "image_shape"
   ]
  },
  {
   "cell_type": "markdown",
   "metadata": {},
   "source": [
    "# Create label encoder"
   ]
  },
  {
   "cell_type": "code",
   "execution_count": 54,
   "metadata": {},
   "outputs": [
    {
     "data": {
      "text/plain": [
       "LabelBinarizer(neg_label=0, pos_label=1, sparse_output=False)"
      ]
     },
     "execution_count": 54,
     "metadata": {},
     "output_type": "execute_result"
    }
   ],
   "source": [
    "import sklearn.preprocessing\n",
    "\n",
    "label_encoder = sklearn.preprocessing.LabelBinarizer()\n",
    "label_encoder.fit(styles['style_name'])"
   ]
  },
  {
   "cell_type": "code",
   "execution_count": 55,
   "metadata": {},
   "outputs": [
    {
     "data": {
      "text/plain": [
       "array(['Beijing', 'Brisbane', 'Geneva', 'HongKong', 'Luanda', 'Melbourne',\n",
       "       'Seoul', 'Singapore', 'Sydney', 'Zurich'], dtype='<U9')"
      ]
     },
     "metadata": {},
     "output_type": "display_data"
    },
    {
     "data": {
      "text/plain": [
       "array([[0, 0, 0, 1, 0, 0, 0, 0, 0, 0],\n",
       "       [0, 0, 0, 0, 0, 0, 0, 0, 0, 1],\n",
       "       [0, 0, 0, 0, 0, 0, 0, 0, 0, 0],\n",
       "       [0, 0, 0, 0, 0, 0, 0, 0, 0, 1]])"
      ]
     },
     "metadata": {},
     "output_type": "display_data"
    },
    {
     "data": {
      "text/plain": [
       "array(['HongKong', 'Zurich'], dtype='<U9')"
      ]
     },
     "metadata": {},
     "output_type": "display_data"
    }
   ],
   "source": [
    "import numpy as np\n",
    "\n",
    "display(label_encoder.classes_)\n",
    "display(label_encoder.transform(['HongKong', 'Zurich', 'Syndey', 'Zurich']))\n",
    "display(label_encoder.inverse_transform(np.array([[0, 0, 0, 1, 0, 0, 0, 0, 0, 0], [0, 0, 0, 0, 0, 0, 0, 0, 0, 1]])))"
   ]
  },
  {
   "cell_type": "markdown",
   "metadata": {},
   "source": [
    "# Data processing functions"
   ]
  },
  {
   "cell_type": "code",
   "execution_count": 59,
   "metadata": {},
   "outputs": [],
   "source": [
    "import numpy as np\n",
    "import tensorflow as tf\n",
    "import pandas as pd\n",
    "import sklearn.model_selection\n",
    "\n",
    "def load_image(filepath):\n",
    "    return np.asarray(tf.keras.preprocessing.image.load_img(f'{INPUT}/{filepath}')) / 255.0\n",
    "\n",
    "def load_images(filepaths):\n",
    "    return np.asarray([load_image(filepath) for filepath in filepaths])\n",
    "\n",
    "def load_labels(labels):\n",
    "    return label_encoder.transform(labels)\n",
    "\n",
    "def load_data(df):\n",
    "    images = load_images(df['filepath'])\n",
    "    labels = load_labels(df['style_name'])\n",
    "    return sklearn.model_selection.train_test_split(images, labels, test_size=0.25)"
   ]
  },
  {
   "cell_type": "code",
   "execution_count": 60,
   "metadata": {},
   "outputs": [
    {
     "name": "stderr",
     "output_type": "stream",
     "text": [
      "...\n",
      "----------------------------------------------------------------------\n",
      "Ran 3 tests in 0.031s\n",
      "\n",
      "OK\n"
     ]
    },
    {
     "data": {
      "text/plain": [
       "<unittest.main.TestProgram at 0x1a3464dc88>"
      ]
     },
     "execution_count": 60,
     "metadata": {},
     "output_type": "execute_result"
    }
   ],
   "source": [
    "import unittest\n",
    "\n",
    "class TestLoadImages(unittest.TestCase):\n",
    "    def test_load_image(self):\n",
    "        result = load_image('synimg/test/A/test-A-9000000.jpg')\n",
    "        self.assertTrue(isinstance(result, np.ndarray))\n",
    "        self.assertEqual(result.dtype, 'float64')\n",
    "        self.assertEqual(result.shape, image_shape)\n",
    "        self.assertTrue((result >= 0.0).all() and (result <= 1.0).all())\n",
    "    def test_load_images(self):\n",
    "        result = load_images(['synimg/test/A/test-A-9000000.jpg', 'synimg/test/B/test-B-9000001.jpg'])\n",
    "        self.assertEqual(result.shape, (2, *image_shape))\n",
    "\n",
    "class TestLoadData(unittest.TestCase):\n",
    "    def test_load_data(self):\n",
    "        df = pd.DataFrame({\n",
    "            'style_name': [\n",
    "                'Luanda',\n",
    "                'Luanda',\n",
    "                'Brisbane',\n",
    "                'Brisbane'\n",
    "            ],\n",
    "            'filepath': [\n",
    "                'synimg/train/Luanda/train-Luanda-1000000.jpg',\n",
    "                'synimg/train/Luanda/train-Luanda-1000001.jpg',\n",
    "                'synimg/train/Brisbane/train-Brisbane-1090000.jpg',\n",
    "                'synimg/train/Brisbane/train-Brisbane-1090001.jpg'\n",
    "            ]\n",
    "        })\n",
    "        X_train, X_test, y_train, y_test = load_data(df)\n",
    "        self.assertEqual((X_train.shape, y_train.shape), ((3, *image_shape), (3, len(styles))))\n",
    "        self.assertEqual((X_test.shape, y_test.shape), ((1, *image_shape), (1, len(styles))))\n",
    "\n",
    "unittest.main(argv=[''], exit=False)"
   ]
  },
  {
   "cell_type": "markdown",
   "metadata": {},
   "source": [
    "# Load data"
   ]
  },
  {
   "cell_type": "code",
   "execution_count": 62,
   "metadata": {},
   "outputs": [],
   "source": [
    "train_images, test_images, train_labels, test_labels = load_data(train)"
   ]
  },
  {
   "cell_type": "markdown",
   "metadata": {},
   "source": [
    "# Create model"
   ]
  },
  {
   "cell_type": "code",
   "execution_count": 63,
   "metadata": {},
   "outputs": [],
   "source": [
    "#!pip uninstall -y ethnicolr # needed on Kaggle due to tensorflow 1 dependency\n",
    "#!pip install -q tensorflow==2.0.0-beta1"
   ]
  },
  {
   "cell_type": "code",
   "execution_count": 64,
   "metadata": {},
   "outputs": [],
   "source": [
    "from tensorflow.keras import layers, models\n",
    "\n",
    "model = models.Sequential()\n",
    "model.add(layers.Conv2D(32, (3, 3), activation='relu', input_shape=image_shape))\n",
    "model.add(layers.MaxPooling2D((2, 2)))\n",
    "model.add(layers.Conv2D(64, (3, 3), activation='relu'))\n",
    "model.add(layers.MaxPooling2D((2, 2)))\n",
    "model.add(layers.Conv2D(64, (3, 3), activation='relu'))\n",
    "model.add(layers.Flatten())\n",
    "model.add(layers.Dense(64, activation='relu'))\n",
    "model.add(layers.Dense(len(styles), activation='softmax'))"
   ]
  },
  {
   "cell_type": "code",
   "execution_count": 65,
   "metadata": {},
   "outputs": [
    {
     "name": "stdout",
     "output_type": "stream",
     "text": [
      "Model: \"sequential_1\"\n",
      "_________________________________________________________________\n",
      "Layer (type)                 Output Shape              Param #   \n",
      "=================================================================\n",
      "conv2d_3 (Conv2D)            (None, 30, 62, 32)        896       \n",
      "_________________________________________________________________\n",
      "max_pooling2d_2 (MaxPooling2 (None, 15, 31, 32)        0         \n",
      "_________________________________________________________________\n",
      "conv2d_4 (Conv2D)            (None, 13, 29, 64)        18496     \n",
      "_________________________________________________________________\n",
      "max_pooling2d_3 (MaxPooling2 (None, 6, 14, 64)         0         \n",
      "_________________________________________________________________\n",
      "conv2d_5 (Conv2D)            (None, 4, 12, 64)         36928     \n",
      "_________________________________________________________________\n",
      "flatten_1 (Flatten)          (None, 3072)              0         \n",
      "_________________________________________________________________\n",
      "dense_2 (Dense)              (None, 64)                196672    \n",
      "_________________________________________________________________\n",
      "dense_3 (Dense)              (None, 10)                650       \n",
      "=================================================================\n",
      "Total params: 253,642\n",
      "Trainable params: 253,642\n",
      "Non-trainable params: 0\n",
      "_________________________________________________________________\n"
     ]
    }
   ],
   "source": [
    "model.summary()"
   ]
  },
  {
   "cell_type": "markdown",
   "metadata": {},
   "source": [
    "# Train model"
   ]
  },
  {
   "cell_type": "code",
   "execution_count": 66,
   "metadata": {},
   "outputs": [
    {
     "data": {
      "text/plain": [
       "((75000, 32, 64, 3), (75000, 10))"
      ]
     },
     "execution_count": 66,
     "metadata": {},
     "output_type": "execute_result"
    }
   ],
   "source": [
    "train_images.shape, train_labels.shape"
   ]
  },
  {
   "cell_type": "code",
   "execution_count": 71,
   "metadata": {},
   "outputs": [
    {
     "name": "stdout",
     "output_type": "stream",
     "text": [
      "Train on 75000 samples\n",
      "Epoch 1/5\n",
      "75000/75000 [==============================] - 128s 2ms/sample - loss: 0.8670 - accuracy: 0.6335\n",
      "Epoch 2/5\n",
      "75000/75000 [==============================] - 128s 2ms/sample - loss: 0.6883 - accuracy: 0.7125\n",
      "Epoch 3/5\n",
      "75000/75000 [==============================] - 138s 2ms/sample - loss: 0.5365 - accuracy: 0.7839\n",
      "Epoch 4/5\n",
      "75000/75000 [==============================] - 146s 2ms/sample - loss: 0.4315 - accuracy: 0.8274\n",
      "Epoch 5/5\n",
      "75000/75000 [==============================] - 138s 2ms/sample - loss: 0.3682 - accuracy: 0.8523\n"
     ]
    },
    {
     "data": {
      "text/plain": [
       "<tensorflow.python.keras.callbacks.History at 0x1a37d7ada0>"
      ]
     },
     "execution_count": 71,
     "metadata": {},
     "output_type": "execute_result"
    }
   ],
   "source": [
    "model.compile(optimizer='adam', loss='categorical_crossentropy', metrics=['accuracy'])\n",
    "model.fit(train_images, train_labels, epochs=5)"
   ]
  },
  {
   "cell_type": "markdown",
   "metadata": {},
   "source": [
    "# Evaluate model"
   ]
  },
  {
   "cell_type": "code",
   "execution_count": 72,
   "metadata": {},
   "outputs": [
    {
     "name": "stdout",
     "output_type": "stream",
     "text": [
      "25000/25000 [==============================] - 14s 563us/sample - loss: 0.3864 - accuracy: 0.8474\n"
     ]
    }
   ],
   "source": [
    "test_loss, test_acc = model.evaluate(test_images, test_labels)"
   ]
  },
  {
   "cell_type": "markdown",
   "metadata": {},
   "source": [
    "# Run predictions"
   ]
  },
  {
   "cell_type": "code",
   "execution_count": 75,
   "metadata": {},
   "outputs": [
    {
     "data": {
      "text/plain": [
       "array(['Sydney', 'Melbourne', 'Melbourne', ..., 'Singapore', 'Luanda',\n",
       "       'HongKong'], dtype='<U9')"
      ]
     },
     "execution_count": 75,
     "metadata": {},
     "output_type": "execute_result"
    }
   ],
   "source": [
    "real_test_images = load_images(test['filepath'])\n",
    "predictions = model.predict(real_test_images)\n",
    "prediction_labels = label_encoder.inverse_transform(predictions)\n",
    "prediction_labels"
   ]
  },
  {
   "cell_type": "markdown",
   "metadata": {},
   "source": [
    "# Submit predictions"
   ]
  },
  {
   "cell_type": "code",
   "execution_count": 76,
   "metadata": {},
   "outputs": [
    {
     "name": "stdout",
     "output_type": "stream",
     "text": [
      "id,style_name\r\n",
      "9000000,Brisbane\r\n",
      "9000001,Sydney\r\n",
      "9000002,Melbourne\r\n",
      "9000003,Geneva\r\n",
      "9000004,Geneva\r\n",
      "9000005,Beijing\r\n",
      "9000006,Geneva\r\n",
      "9000007,Melbourne\r\n",
      "9000008,Beijing\r\n"
     ]
    }
   ],
   "source": [
    "!head $INPUT/sample_submission.csv"
   ]
  },
  {
   "cell_type": "code",
   "execution_count": 80,
   "metadata": {},
   "outputs": [
    {
     "data": {
      "text/html": [
       "<div>\n",
       "<style scoped>\n",
       "    .dataframe tbody tr th:only-of-type {\n",
       "        vertical-align: middle;\n",
       "    }\n",
       "\n",
       "    .dataframe tbody tr th {\n",
       "        vertical-align: top;\n",
       "    }\n",
       "\n",
       "    .dataframe thead th {\n",
       "        text-align: right;\n",
       "    }\n",
       "</style>\n",
       "<table border=\"1\" class=\"dataframe\">\n",
       "  <thead>\n",
       "    <tr style=\"text-align: right;\">\n",
       "      <th></th>\n",
       "      <th>id</th>\n",
       "      <th>style_name</th>\n",
       "    </tr>\n",
       "  </thead>\n",
       "  <tbody>\n",
       "    <tr>\n",
       "      <th>0</th>\n",
       "      <td>9000000</td>\n",
       "      <td>Sydney</td>\n",
       "    </tr>\n",
       "    <tr>\n",
       "      <th>1</th>\n",
       "      <td>9000001</td>\n",
       "      <td>Melbourne</td>\n",
       "    </tr>\n",
       "    <tr>\n",
       "      <th>2</th>\n",
       "      <td>9000002</td>\n",
       "      <td>Melbourne</td>\n",
       "    </tr>\n",
       "    <tr>\n",
       "      <th>3</th>\n",
       "      <td>9000003</td>\n",
       "      <td>Singapore</td>\n",
       "    </tr>\n",
       "    <tr>\n",
       "      <th>4</th>\n",
       "      <td>9000004</td>\n",
       "      <td>Brisbane</td>\n",
       "    </tr>\n",
       "  </tbody>\n",
       "</table>\n",
       "</div>"
      ],
      "text/plain": [
       "        id style_name\n",
       "0  9000000     Sydney\n",
       "1  9000001  Melbourne\n",
       "2  9000002  Melbourne\n",
       "3  9000003  Singapore\n",
       "4  9000004   Brisbane"
      ]
     },
     "execution_count": 80,
     "metadata": {},
     "output_type": "execute_result"
    }
   ],
   "source": [
    "import pandas as pd\n",
    "\n",
    "submission = test[['id']].assign(style_name = prediction_labels)\n",
    "submission.head()"
   ]
  },
  {
   "cell_type": "code",
   "execution_count": 83,
   "metadata": {},
   "outputs": [],
   "source": [
    "OUTPUT='../output'\n",
    "submission.to_csv(f'{OUTPUT}/submission.csv', index=False)"
   ]
  },
  {
   "cell_type": "code",
   "execution_count": 84,
   "metadata": {},
   "outputs": [
    {
     "name": "stdout",
     "output_type": "stream",
     "text": [
      "id,style_name\r\n",
      "9000000,Sydney\r\n",
      "9000001,Melbourne\r\n",
      "9000002,Melbourne\r\n",
      "9000003,Singapore\r\n",
      "9000004,Brisbane\r\n",
      "9000005,Singapore\r\n",
      "9000006,HongKong\r\n",
      "9000007,Beijing\r\n",
      "9000008,Sydney\r\n"
     ]
    }
   ],
   "source": [
    "!head $OUTPUT/submission.csv"
   ]
  },
  {
   "cell_type": "code",
   "execution_count": 85,
   "metadata": {},
   "outputs": [
    {
     "name": "stdout",
     "output_type": "stream",
     "text": [
      "100%|████████████████████████████████████████| 314k/314k [00:10<00:00, 31.9kB/s]\n",
      "Successfully submitted to Synthetic Image Classification"
     ]
    }
   ],
   "source": [
    "!kaggle competitions submit -c synthetic-image-classification -f $OUTPUT/submission.csv -m ''"
   ]
  }
 ],
 "metadata": {
  "kernelspec": {
   "display_name": "Python 3",
   "language": "python",
   "name": "python3"
  },
  "language_info": {
   "codemirror_mode": {
    "name": "ipython",
    "version": 3
   },
   "file_extension": ".py",
   "mimetype": "text/x-python",
   "name": "python",
   "nbconvert_exporter": "python",
   "pygments_lexer": "ipython3",
   "version": "3.6.8"
  }
 },
 "nbformat": 4,
 "nbformat_minor": 2
}
