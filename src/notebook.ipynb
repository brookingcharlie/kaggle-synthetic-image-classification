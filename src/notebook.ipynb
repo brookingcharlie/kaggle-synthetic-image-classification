{
 "cells": [
  {
   "cell_type": "markdown",
   "metadata": {},
   "source": [
    "# Download and extract data"
   ]
  },
  {
   "cell_type": "code",
   "execution_count": 53,
   "metadata": {},
   "outputs": [],
   "source": [
    "INPUT='../input' # INPUT='../input/synimg' on Kaggle"
   ]
  },
  {
   "cell_type": "code",
   "execution_count": 54,
   "metadata": {},
   "outputs": [
    {
     "name": "stdout",
     "output_type": "stream",
     "text": [
      "sample_submission.csv: Skipping, found more recently modified local copy (use --force to force download)\n",
      "synimg.zip: Skipping, found more recently modified local copy (use --force to force download)\n"
     ]
    }
   ],
   "source": [
    "!kaggle competitions download -p $INPUT -c synthetic-image-classification"
   ]
  },
  {
   "cell_type": "code",
   "execution_count": 55,
   "metadata": {},
   "outputs": [
    {
     "name": "stdout",
     "output_type": "stream",
     "text": [
      "Archive:  ../input/synimg.zip\r\n"
     ]
    }
   ],
   "source": [
    "!unzip -u -d $INPUT $INPUT/synimg.zip"
   ]
  },
  {
   "cell_type": "markdown",
   "metadata": {},
   "source": [
    "# First look"
   ]
  },
  {
   "cell_type": "code",
   "execution_count": 56,
   "metadata": {},
   "outputs": [
    {
     "name": "stdout",
     "output_type": "stream",
     "text": [
      "readme.txt styles.txt \u001b[34mtest\u001b[m\u001b[m       \u001b[34mtrain\u001b[m\u001b[m\r\n"
     ]
    }
   ],
   "source": [
    "!ls $INPUT/synimg"
   ]
  },
  {
   "cell_type": "code",
   "execution_count": 57,
   "metadata": {},
   "outputs": [
    {
     "name": "stdout",
     "output_type": "stream",
     "text": [
      "Luanda\r\n",
      "HongKong\r\n",
      "Zurich\r\n",
      "Singapore\r\n",
      "Geneva\r\n",
      "Beijing\r\n",
      "Seoul\r\n",
      "Sydney\r\n",
      "Melbourne\r\n",
      "Brisbane"
     ]
    }
   ],
   "source": [
    "!cat $INPUT/synimg/styles.txt"
   ]
  },
  {
   "cell_type": "markdown",
   "metadata": {},
   "source": [
    "# Check out training data"
   ]
  },
  {
   "cell_type": "code",
   "execution_count": 58,
   "metadata": {},
   "outputs": [
    {
     "name": "stdout",
     "output_type": "stream",
     "text": [
      "\u001b[34mBeijing\u001b[m\u001b[m   \u001b[34mGeneva\u001b[m\u001b[m    \u001b[34mLuanda\u001b[m\u001b[m    \u001b[34mSeoul\u001b[m\u001b[m     \u001b[34mSydney\u001b[m\u001b[m    data.csv\r\n",
      "\u001b[34mBrisbane\u001b[m\u001b[m  \u001b[34mHongKong\u001b[m\u001b[m  \u001b[34mMelbourne\u001b[m\u001b[m \u001b[34mSingapore\u001b[m\u001b[m \u001b[34mZurich\u001b[m\u001b[m\r\n"
     ]
    }
   ],
   "source": [
    "!ls $INPUT/synimg/train"
   ]
  },
  {
   "cell_type": "code",
   "execution_count": 59,
   "metadata": {},
   "outputs": [],
   "source": [
    "import pandas as pd\n",
    "train = pd.read_csv(f'{INPUT}/synimg/train/data.csv')"
   ]
  },
  {
   "cell_type": "code",
   "execution_count": 60,
   "metadata": {},
   "outputs": [
    {
     "data": {
      "text/html": [
       "<div>\n",
       "<style scoped>\n",
       "    .dataframe tbody tr th:only-of-type {\n",
       "        vertical-align: middle;\n",
       "    }\n",
       "\n",
       "    .dataframe tbody tr th {\n",
       "        vertical-align: top;\n",
       "    }\n",
       "\n",
       "    .dataframe thead th {\n",
       "        text-align: right;\n",
       "    }\n",
       "</style>\n",
       "<table border=\"1\" class=\"dataframe\">\n",
       "  <thead>\n",
       "    <tr style=\"text-align: right;\">\n",
       "      <th></th>\n",
       "      <th>id</th>\n",
       "      <th>style_name</th>\n",
       "      <th>file</th>\n",
       "      <th>filepath</th>\n",
       "    </tr>\n",
       "  </thead>\n",
       "  <tbody>\n",
       "    <tr>\n",
       "      <th>0</th>\n",
       "      <td>1000000</td>\n",
       "      <td>Luanda</td>\n",
       "      <td>train-Luanda-1000000.jpg</td>\n",
       "      <td>synimg/train/Luanda/train-Luanda-1000000.jpg</td>\n",
       "    </tr>\n",
       "    <tr>\n",
       "      <th>1</th>\n",
       "      <td>1000001</td>\n",
       "      <td>Luanda</td>\n",
       "      <td>train-Luanda-1000001.jpg</td>\n",
       "      <td>synimg/train/Luanda/train-Luanda-1000001.jpg</td>\n",
       "    </tr>\n",
       "    <tr>\n",
       "      <th>2</th>\n",
       "      <td>1000002</td>\n",
       "      <td>Luanda</td>\n",
       "      <td>train-Luanda-1000002.jpg</td>\n",
       "      <td>synimg/train/Luanda/train-Luanda-1000002.jpg</td>\n",
       "    </tr>\n",
       "    <tr>\n",
       "      <th>3</th>\n",
       "      <td>1000003</td>\n",
       "      <td>Luanda</td>\n",
       "      <td>train-Luanda-1000003.jpg</td>\n",
       "      <td>synimg/train/Luanda/train-Luanda-1000003.jpg</td>\n",
       "    </tr>\n",
       "    <tr>\n",
       "      <th>4</th>\n",
       "      <td>1000004</td>\n",
       "      <td>Luanda</td>\n",
       "      <td>train-Luanda-1000004.jpg</td>\n",
       "      <td>synimg/train/Luanda/train-Luanda-1000004.jpg</td>\n",
       "    </tr>\n",
       "  </tbody>\n",
       "</table>\n",
       "</div>"
      ],
      "text/plain": [
       "        id style_name                      file  \\\n",
       "0  1000000     Luanda  train-Luanda-1000000.jpg   \n",
       "1  1000001     Luanda  train-Luanda-1000001.jpg   \n",
       "2  1000002     Luanda  train-Luanda-1000002.jpg   \n",
       "3  1000003     Luanda  train-Luanda-1000003.jpg   \n",
       "4  1000004     Luanda  train-Luanda-1000004.jpg   \n",
       "\n",
       "                                       filepath  \n",
       "0  synimg/train/Luanda/train-Luanda-1000000.jpg  \n",
       "1  synimg/train/Luanda/train-Luanda-1000001.jpg  \n",
       "2  synimg/train/Luanda/train-Luanda-1000002.jpg  \n",
       "3  synimg/train/Luanda/train-Luanda-1000003.jpg  \n",
       "4  synimg/train/Luanda/train-Luanda-1000004.jpg  "
      ]
     },
     "execution_count": 60,
     "metadata": {},
     "output_type": "execute_result"
    }
   ],
   "source": [
    "train.head()"
   ]
  },
  {
   "cell_type": "code",
   "execution_count": 61,
   "metadata": {},
   "outputs": [
    {
     "data": {
      "text/plain": [
       "(100000, 4)"
      ]
     },
     "execution_count": 61,
     "metadata": {},
     "output_type": "execute_result"
    }
   ],
   "source": [
    "train.shape"
   ]
  },
  {
   "cell_type": "code",
   "execution_count": 62,
   "metadata": {},
   "outputs": [
    {
     "data": {
      "text/html": [
       "<div>\n",
       "<style scoped>\n",
       "    .dataframe tbody tr th:only-of-type {\n",
       "        vertical-align: middle;\n",
       "    }\n",
       "\n",
       "    .dataframe tbody tr th {\n",
       "        vertical-align: top;\n",
       "    }\n",
       "\n",
       "    .dataframe thead th {\n",
       "        text-align: right;\n",
       "    }\n",
       "</style>\n",
       "<table border=\"1\" class=\"dataframe\">\n",
       "  <thead>\n",
       "    <tr style=\"text-align: right;\">\n",
       "      <th></th>\n",
       "      <th>id</th>\n",
       "      <th>file</th>\n",
       "      <th>filepath</th>\n",
       "    </tr>\n",
       "    <tr>\n",
       "      <th>style_name</th>\n",
       "      <th></th>\n",
       "      <th></th>\n",
       "      <th></th>\n",
       "    </tr>\n",
       "  </thead>\n",
       "  <tbody>\n",
       "    <tr>\n",
       "      <th>Beijing</th>\n",
       "      <td>10000</td>\n",
       "      <td>10000</td>\n",
       "      <td>10000</td>\n",
       "    </tr>\n",
       "    <tr>\n",
       "      <th>Brisbane</th>\n",
       "      <td>10000</td>\n",
       "      <td>10000</td>\n",
       "      <td>10000</td>\n",
       "    </tr>\n",
       "    <tr>\n",
       "      <th>Geneva</th>\n",
       "      <td>10000</td>\n",
       "      <td>10000</td>\n",
       "      <td>10000</td>\n",
       "    </tr>\n",
       "    <tr>\n",
       "      <th>HongKong</th>\n",
       "      <td>10000</td>\n",
       "      <td>10000</td>\n",
       "      <td>10000</td>\n",
       "    </tr>\n",
       "    <tr>\n",
       "      <th>Luanda</th>\n",
       "      <td>10000</td>\n",
       "      <td>10000</td>\n",
       "      <td>10000</td>\n",
       "    </tr>\n",
       "    <tr>\n",
       "      <th>Melbourne</th>\n",
       "      <td>10000</td>\n",
       "      <td>10000</td>\n",
       "      <td>10000</td>\n",
       "    </tr>\n",
       "    <tr>\n",
       "      <th>Seoul</th>\n",
       "      <td>10000</td>\n",
       "      <td>10000</td>\n",
       "      <td>10000</td>\n",
       "    </tr>\n",
       "    <tr>\n",
       "      <th>Singapore</th>\n",
       "      <td>10000</td>\n",
       "      <td>10000</td>\n",
       "      <td>10000</td>\n",
       "    </tr>\n",
       "    <tr>\n",
       "      <th>Sydney</th>\n",
       "      <td>10000</td>\n",
       "      <td>10000</td>\n",
       "      <td>10000</td>\n",
       "    </tr>\n",
       "    <tr>\n",
       "      <th>Zurich</th>\n",
       "      <td>10000</td>\n",
       "      <td>10000</td>\n",
       "      <td>10000</td>\n",
       "    </tr>\n",
       "  </tbody>\n",
       "</table>\n",
       "</div>"
      ],
      "text/plain": [
       "               id   file  filepath\n",
       "style_name                        \n",
       "Beijing     10000  10000     10000\n",
       "Brisbane    10000  10000     10000\n",
       "Geneva      10000  10000     10000\n",
       "HongKong    10000  10000     10000\n",
       "Luanda      10000  10000     10000\n",
       "Melbourne   10000  10000     10000\n",
       "Seoul       10000  10000     10000\n",
       "Singapore   10000  10000     10000\n",
       "Sydney      10000  10000     10000\n",
       "Zurich      10000  10000     10000"
      ]
     },
     "execution_count": 62,
     "metadata": {},
     "output_type": "execute_result"
    }
   ],
   "source": [
    "train.groupby('style_name').count()"
   ]
  },
  {
   "cell_type": "code",
   "execution_count": 63,
   "metadata": {},
   "outputs": [
    {
     "data": {
      "image/jpeg": "[encoded data removed]",
      "text/plain": [
       "<IPython.core.display.Image object>"
      ]
     },
     "metadata": {},
     "output_type": "display_data"
    },
    {
     "data": {
      "image/jpeg": "[encoded data removed]",
      "text/plain": [
       "<IPython.core.display.Image object>"
      ]
     },
     "metadata": {},
     "output_type": "display_data"
    },
    {
     "data": {
      "image/jpeg": "[encoded data removed]",
      "text/plain": [
       "<IPython.core.display.Image object>"
      ]
     },
     "metadata": {},
     "output_type": "display_data"
    },
    {
     "data": {
      "image/jpeg": "[encoded data removed]",
      "text/plain": [
       "<IPython.core.display.Image object>"
      ]
     },
     "metadata": {},
     "output_type": "display_data"
    }
   ],
   "source": [
    "from IPython.display import Image\n",
    "display(Image(f'{INPUT}/synimg/train/Luanda/train-Luanda-1000000.jpg'))\n",
    "display(Image(f'{INPUT}/synimg/train/Luanda/train-Luanda-1000001.jpg'))\n",
    "display(Image(f'{INPUT}/synimg/train/Brisbane/train-Brisbane-1090000.jpg'))\n",
    "display(Image(f'{INPUT}/synimg/train/Brisbane/train-Brisbane-1090001.jpg'))"
   ]
  },
  {
   "cell_type": "markdown",
   "metadata": {},
   "source": [
    "# Check out test data"
   ]
  },
  {
   "cell_type": "code",
   "execution_count": 64,
   "metadata": {},
   "outputs": [
    {
     "name": "stdout",
     "output_type": "stream",
     "text": [
      "\u001b[34mA\u001b[m\u001b[m                \u001b[34mD\u001b[m\u001b[m                \u001b[34mG\u001b[m\u001b[m                \u001b[34mJ\u001b[m\u001b[m\r\n",
      "\u001b[34mB\u001b[m\u001b[m                \u001b[34mE\u001b[m\u001b[m                \u001b[34mH\u001b[m\u001b[m                data_nostyle.csv\r\n",
      "\u001b[34mC\u001b[m\u001b[m                \u001b[34mF\u001b[m\u001b[m                \u001b[34mI\u001b[m\u001b[m\r\n"
     ]
    }
   ],
   "source": [
    "!ls $INPUT/synimg/test"
   ]
  },
  {
   "cell_type": "code",
   "execution_count": 65,
   "metadata": {},
   "outputs": [],
   "source": [
    "test = pd.read_csv(f'{INPUT}/synimg/test/data_nostyle.csv')"
   ]
  },
  {
   "cell_type": "code",
   "execution_count": 66,
   "metadata": {},
   "outputs": [
    {
     "data": {
      "text/html": [
       "<div>\n",
       "<style scoped>\n",
       "    .dataframe tbody tr th:only-of-type {\n",
       "        vertical-align: middle;\n",
       "    }\n",
       "\n",
       "    .dataframe tbody tr th {\n",
       "        vertical-align: top;\n",
       "    }\n",
       "\n",
       "    .dataframe thead th {\n",
       "        text-align: right;\n",
       "    }\n",
       "</style>\n",
       "<table border=\"1\" class=\"dataframe\">\n",
       "  <thead>\n",
       "    <tr style=\"text-align: right;\">\n",
       "      <th></th>\n",
       "      <th>id</th>\n",
       "      <th>file</th>\n",
       "      <th>filepath</th>\n",
       "    </tr>\n",
       "  </thead>\n",
       "  <tbody>\n",
       "    <tr>\n",
       "      <th>0</th>\n",
       "      <td>9000000</td>\n",
       "      <td>test-A-9000000.jpg</td>\n",
       "      <td>synimg/test/A/test-A-9000000.jpg</td>\n",
       "    </tr>\n",
       "    <tr>\n",
       "      <th>1</th>\n",
       "      <td>9000001</td>\n",
       "      <td>test-B-9000001.jpg</td>\n",
       "      <td>synimg/test/B/test-B-9000001.jpg</td>\n",
       "    </tr>\n",
       "    <tr>\n",
       "      <th>2</th>\n",
       "      <td>9000002</td>\n",
       "      <td>test-C-9000002.jpg</td>\n",
       "      <td>synimg/test/C/test-C-9000002.jpg</td>\n",
       "    </tr>\n",
       "    <tr>\n",
       "      <th>3</th>\n",
       "      <td>9000003</td>\n",
       "      <td>test-D-9000003.jpg</td>\n",
       "      <td>synimg/test/D/test-D-9000003.jpg</td>\n",
       "    </tr>\n",
       "    <tr>\n",
       "      <th>4</th>\n",
       "      <td>9000004</td>\n",
       "      <td>test-E-9000004.jpg</td>\n",
       "      <td>synimg/test/E/test-E-9000004.jpg</td>\n",
       "    </tr>\n",
       "  </tbody>\n",
       "</table>\n",
       "</div>"
      ],
      "text/plain": [
       "        id                file                          filepath\n",
       "0  9000000  test-A-9000000.jpg  synimg/test/A/test-A-9000000.jpg\n",
       "1  9000001  test-B-9000001.jpg  synimg/test/B/test-B-9000001.jpg\n",
       "2  9000002  test-C-9000002.jpg  synimg/test/C/test-C-9000002.jpg\n",
       "3  9000003  test-D-9000003.jpg  synimg/test/D/test-D-9000003.jpg\n",
       "4  9000004  test-E-9000004.jpg  synimg/test/E/test-E-9000004.jpg"
      ]
     },
     "execution_count": 66,
     "metadata": {},
     "output_type": "execute_result"
    }
   ],
   "source": [
    "test.head()"
   ]
  },
  {
   "cell_type": "code",
   "execution_count": 67,
   "metadata": {},
   "outputs": [
    {
     "data": {
      "text/plain": [
       "(20000, 3)"
      ]
     },
     "execution_count": 67,
     "metadata": {},
     "output_type": "execute_result"
    }
   ],
   "source": [
    "test.shape"
   ]
  },
  {
   "cell_type": "code",
   "execution_count": 68,
   "metadata": {},
   "outputs": [
    {
     "name": "stdout",
     "output_type": "stream",
     "text": [
      "test-A-9000000.jpg\n",
      "test-B-9000001.jpg\n"
     ]
    }
   ],
   "source": [
    "!ls $INPUT/synimg/test/A | head -n1\n",
    "!ls $INPUT/synimg/test/B | head -n1"
   ]
  },
  {
   "cell_type": "code",
   "execution_count": 69,
   "metadata": {},
   "outputs": [
    {
     "data": {
      "image/jpeg": "[encoded data removed]",
      "text/plain": [
       "<IPython.core.display.Image object>"
      ]
     },
     "metadata": {},
     "output_type": "display_data"
    },
    {
     "data": {
      "image/jpeg": "[encoded data removed]",
      "text/plain": [
       "<IPython.core.display.Image object>"
      ]
     },
     "metadata": {},
     "output_type": "display_data"
    }
   ],
   "source": [
    "from IPython.display import Image\n",
    "display(Image(f'{INPUT}/synimg/test/A/test-A-9000000.jpg'))\n",
    "display(Image(f'{INPUT}/synimg/test/B/test-B-9000001.jpg'))"
   ]
  },
  {
   "cell_type": "markdown",
   "metadata": {},
   "source": [
    "# Data processing functions"
   ]
  },
  {
   "cell_type": "code",
   "execution_count": 70,
   "metadata": {},
   "outputs": [],
   "source": [
    "import numpy as np\n",
    "import tensorflow as tf\n",
    "import pandas as pd\n",
    "import sklearn\n",
    "\n",
    "def load_image(filepath):\n",
    "    return np.asarray(tf.keras.preprocessing.image.load_img(f'{INPUT}/{filepath}')) / 255.0\n",
    "\n",
    "def load_images(filepaths):\n",
    "    return np.asarray([load_image(filepath) for filepath in filepaths])\n",
    "\n",
    "def load_labels(labels):\n",
    "    return np.asarray(pd.get_dummies(labels))\n",
    "\n",
    "def load_data(df):\n",
    "    images = load_images(df['filepath'])\n",
    "    labels = load_labels(df['style_name'])\n",
    "    return sklearn.model_selection.train_test_split(images, labels, test_size=0.25)"
   ]
  },
  {
   "cell_type": "code",
   "execution_count": 71,
   "metadata": {},
   "outputs": [
    {
     "name": "stderr",
     "output_type": "stream",
     "text": [
      "....\n",
      "----------------------------------------------------------------------\n",
      "Ran 4 tests in 0.020s\n",
      "\n",
      "OK\n"
     ]
    },
    {
     "data": {
      "text/plain": [
       "<unittest.main.TestProgram at 0x1a31a10a20>"
      ]
     },
     "execution_count": 71,
     "metadata": {},
     "output_type": "execute_result"
    }
   ],
   "source": [
    "import unittest\n",
    "\n",
    "class TestLoadImages(unittest.TestCase):\n",
    "    def test_load_image(self):\n",
    "        result = load_image('synimg/test/A/test-A-9000000.jpg')\n",
    "        self.assertTrue(isinstance(result, np.ndarray))\n",
    "        self.assertEqual(result.dtype, 'float64')\n",
    "        self.assertEqual(result.shape, (32, 64, 3))\n",
    "        self.assertTrue((result >= 0.0).all() and (result <= 1.0).all())\n",
    "    def test_load_images(self):\n",
    "        result = load_images(['synimg/test/A/test-A-9000000.jpg', 'synimg/test/B/test-B-9000001.jpg'])\n",
    "        self.assertEqual(result.shape, (2, 32, 64, 3))\n",
    "\n",
    "class TestLoadLabels(unittest.TestCase):\n",
    "    def test_load_labels(self):\n",
    "        result = load_labels(['Luanda', 'HongKong', 'Luanda', 'Zurich'])\n",
    "        self.assertTrue(isinstance(result, np.ndarray))\n",
    "        self.assertTrue((result == np.array([[0, 1, 0], [1, 0, 0], [0, 1, 0], [0, 0, 1]])).all())\n",
    "\n",
    "class TestLoadData(unittest.TestCase):\n",
    "    def test_load_data(self):\n",
    "        df = pd.DataFrame({\n",
    "            'style_name': [\n",
    "                'Luanda',\n",
    "                'Luanda',\n",
    "                'Brisbane',\n",
    "                'Brisbane'\n",
    "            ],\n",
    "            'filepath': [\n",
    "                'synimg/train/Luanda/train-Luanda-1000000.jpg',\n",
    "                'synimg/train/Luanda/train-Luanda-1000001.jpg',\n",
    "                'synimg/train/Brisbane/train-Brisbane-1090000.jpg',\n",
    "                'synimg/train/Brisbane/train-Brisbane-1090001.jpg'\n",
    "            ]\n",
    "        })\n",
    "        X_train, X_test, y_train, y_test = load_data(df)\n",
    "        self.assertEqual((X_train.shape, y_train.shape), ((3, 32, 64, 3), (3, 2)))\n",
    "        self.assertEqual((X_test.shape, y_test.shape), ((1, 32, 64, 3), (1, 2)))\n",
    "\n",
    "unittest.main(argv=[''], exit=False)"
   ]
  },
  {
   "cell_type": "markdown",
   "metadata": {},
   "source": [
    "# Load data"
   ]
  },
  {
   "cell_type": "code",
   "execution_count": 72,
   "metadata": {},
   "outputs": [],
   "source": [
    "train_images, test_images, train_labels, test_labels = load_data(train[:][0:1000])"
   ]
  },
  {
   "cell_type": "markdown",
   "metadata": {},
   "source": [
    "# Create model"
   ]
  },
  {
   "cell_type": "code",
   "execution_count": 73,
   "metadata": {},
   "outputs": [],
   "source": [
    "#!pip uninstall -y ethnicolr # needed on Kaggle due to tensorflow 1 dependency\n",
    "#!pip install -q tensorflow==2.0.0-beta1"
   ]
  },
  {
   "cell_type": "code",
   "execution_count": 74,
   "metadata": {},
   "outputs": [],
   "source": [
    "from tensorflow.keras import layers, models\n",
    "model = models.Sequential()\n",
    "model.add(layers.Conv2D(32, (3, 3), activation='relu', input_shape=(32, 64, 3)))\n",
    "model.add(layers.MaxPooling2D((2, 2)))\n",
    "model.add(layers.Conv2D(64, (3, 3), activation='relu'))\n",
    "model.add(layers.MaxPooling2D((2, 2)))\n",
    "model.add(layers.Conv2D(64, (3, 3), activation='relu'))\n",
    "model.add(layers.Flatten())\n",
    "model.add(layers.Dense(64, activation='relu'))\n",
    "model.add(layers.Dense(10, activation='softmax'))"
   ]
  },
  {
   "cell_type": "code",
   "execution_count": 75,
   "metadata": {},
   "outputs": [
    {
     "name": "stdout",
     "output_type": "stream",
     "text": [
      "Model: \"sequential_1\"\n",
      "_________________________________________________________________\n",
      "Layer (type)                 Output Shape              Param #   \n",
      "=================================================================\n",
      "conv2d_3 (Conv2D)            (None, 30, 62, 32)        896       \n",
      "_________________________________________________________________\n",
      "max_pooling2d_2 (MaxPooling2 (None, 15, 31, 32)        0         \n",
      "_________________________________________________________________\n",
      "conv2d_4 (Conv2D)            (None, 13, 29, 64)        18496     \n",
      "_________________________________________________________________\n",
      "max_pooling2d_3 (MaxPooling2 (None, 6, 14, 64)         0         \n",
      "_________________________________________________________________\n",
      "conv2d_5 (Conv2D)            (None, 4, 12, 64)         36928     \n",
      "_________________________________________________________________\n",
      "flatten_1 (Flatten)          (None, 3072)              0         \n",
      "_________________________________________________________________\n",
      "dense_2 (Dense)              (None, 64)                196672    \n",
      "_________________________________________________________________\n",
      "dense_3 (Dense)              (None, 10)                650       \n",
      "=================================================================\n",
      "Total params: 253,642\n",
      "Trainable params: 253,642\n",
      "Non-trainable params: 0\n",
      "_________________________________________________________________\n"
     ]
    }
   ],
   "source": [
    "model.summary()"
   ]
  },
  {
   "cell_type": "markdown",
   "metadata": {},
   "source": [
    "# Train model"
   ]
  },
  {
   "cell_type": "code",
   "execution_count": 76,
   "metadata": {},
   "outputs": [
    {
     "name": "stdout",
     "output_type": "stream",
     "text": [
      "Train on 750 samples\n",
      "Epoch 1/5\n",
      "750/750 [==============================] - 2s 2ms/sample - loss: 0.1778 - accuracy: 0.9600\n",
      "Epoch 2/5\n",
      "750/750 [==============================] - 1s 2ms/sample - loss: 9.5367e-07 - accuracy: 1.0000\n",
      "Epoch 3/5\n",
      "750/750 [==============================] - 1s 2ms/sample - loss: 9.5367e-07 - accuracy: 1.0000\n",
      "Epoch 4/5\n",
      "750/750 [==============================] - 1s 2ms/sample - loss: 9.5367e-07 - accuracy: 1.0000\n",
      "Epoch 5/5\n",
      "750/750 [==============================] - 2s 2ms/sample - loss: 9.5367e-07 - accuracy: 1.0000\n"
     ]
    },
    {
     "data": {
      "text/plain": [
       "<tensorflow.python.keras.callbacks.History at 0x1a2d9ddd30>"
      ]
     },
     "execution_count": 76,
     "metadata": {},
     "output_type": "execute_result"
    }
   ],
   "source": [
    "model.compile(optimizer='adam', loss='sparse_categorical_crossentropy', metrics=['accuracy'])\n",
    "model.fit(train_images, train_labels, epochs=5)"
   ]
  },
  {
   "cell_type": "markdown",
   "metadata": {},
   "source": [
    "# Evaluate model"
   ]
  },
  {
   "cell_type": "code",
   "execution_count": 77,
   "metadata": {},
   "outputs": [
    {
     "name": "stdout",
     "output_type": "stream",
     "text": [
      "250/250 [==============================] - 0s 706us/sample - loss: 9.5367e-07 - accuracy: 1.0000\n"
     ]
    }
   ],
   "source": [
    "test_loss, test_acc = model.evaluate(test_images, test_labels)"
   ]
  }
 ],
 "metadata": {
  "kernelspec": {
   "display_name": "Python 3",
   "language": "python",
   "name": "python3"
  },
  "language_info": {
   "codemirror_mode": {
    "name": "ipython",
    "version": 3
   },
   "file_extension": ".py",
   "mimetype": "text/x-python",
   "name": "python",
   "nbconvert_exporter": "python",
   "pygments_lexer": "ipython3",
   "version": "3.6.8"
  }
 },
 "nbformat": 4,
 "nbformat_minor": 2
}
